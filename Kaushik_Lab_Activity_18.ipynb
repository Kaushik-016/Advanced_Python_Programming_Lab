{
  "nbformat": 4,
  "nbformat_minor": 0,
  "metadata": {
    "colab": {
      "provenance": []
    },
    "kernelspec": {
      "name": "python3",
      "display_name": "Python 3"
    },
    "language_info": {
      "name": "python"
    }
  },
  "cells": [
    {
      "cell_type": "markdown",
      "source": [
        "##Name: Kaushik V\n",
        "##Reg No: 22MID0145\n",
        "##Lab No: Lab Activity 18\n",
        "\n"
      ],
      "metadata": {
        "id": "rm6QVYzD1I-E"
      }
    },
    {
      "cell_type": "markdown",
      "source": [
        "Why VS Code?\n",
        "\n",
        "It is an IDE used to write and deploy applications in multiple languages. You can use it for practice purpose aswell.\n",
        "\n",
        "There are lot of extensions which supports Multiple functionalities. There is new Copilot AI which helps you and give suggestion while you code.\n",
        "\n",
        "\n",
        "Auto Fill is my favorite feature which was introduced in 2025.\n",
        "\n",
        "The extension we saw today is code runner which is used for compiling multiple language codes."
      ],
      "metadata": {
        "id": "PRRAjeZm12Gy"
      }
    },
    {
      "cell_type": "code",
      "execution_count": 4,
      "metadata": {
        "id": "pGgDjI8zyRwO"
      },
      "outputs": [],
      "source": [
        "import pandas as pd\n",
        "from textblob import TextBlob\n"
      ]
    },
    {
      "cell_type": "code",
      "source": [
        "data = pd.read_csv(r\"/content/drive/MyDrive/IMDB Dataset.csv\")\n",
        "print(data.head())"
      ],
      "metadata": {
        "colab": {
          "base_uri": "https://localhost:8080/"
        },
        "id": "vkOPiUdxziUw",
        "outputId": "bb3b4856-e116-45df-a3fa-e8fd649db21f"
      },
      "execution_count": 5,
      "outputs": [
        {
          "output_type": "stream",
          "name": "stdout",
          "text": [
            "                                              review sentiment\n",
            "0  One of the other reviewers has mentioned that ...  positive\n",
            "1  A wonderful little production. <br /><br />The...  positive\n",
            "2  I thought this was a wonderful way to spend ti...  positive\n",
            "3  Basically there's a family where a little boy ...  negative\n",
            "4  Petter Mattei's \"Love in the Time of Money\" is...  positive\n"
          ]
        }
      ]
    },
    {
      "cell_type": "code",
      "source": [
        "from google.colab import drive\n",
        "drive.mount('/content/drive')"
      ],
      "metadata": {
        "colab": {
          "base_uri": "https://localhost:8080/"
        },
        "id": "mE-gbx91N19d",
        "outputId": "d1f27553-928a-46d4-970d-08625c31d712"
      },
      "execution_count": 6,
      "outputs": [
        {
          "output_type": "stream",
          "name": "stdout",
          "text": [
            "Drive already mounted at /content/drive; to attempt to forcibly remount, call drive.mount(\"/content/drive\", force_remount=True).\n"
          ]
        }
      ]
    },
    {
      "cell_type": "code",
      "source": [
        "text = data.loc[6,\"review\"] #Perform SA for 2 review in dataset and check whether it matches.\n",
        "blob = TextBlob(text)\n",
        "\n",
        "print(\"Polarity:\", blob.sentiment.polarity)\n",
        "print(\"Subjectivity:\", blob.sentiment.subjectivity)\n",
        "\n",
        "if blob.sentiment.polarity > 0:\n",
        " print(\"Sentiment: Positive \")\n",
        "elif blob.sentiment.polarity < 0:\n",
        " print(\"Sentiment: Negative\")\n",
        "else:\n",
        " print(\"Sentiment: Neutral \")"
      ],
      "metadata": {
        "colab": {
          "base_uri": "https://localhost:8080/"
        },
        "id": "KxxK43_TzmmJ",
        "outputId": "9414d3bf-5877-4776-f2ae-c8e98fb434be"
      },
      "execution_count": 7,
      "outputs": [
        {
          "output_type": "stream",
          "name": "stdout",
          "text": [
            "Polarity: 0.2855218855218855\n",
            "Subjectivity: 0.4751964085297419\n",
            "Sentiment: Positive \n"
          ]
        }
      ]
    },
    {
      "cell_type": "markdown",
      "source": [
        "##Task-2\n"
      ],
      "metadata": {
        "id": "dxyMO5ix1vQm"
      }
    },
    {
      "cell_type": "code",
      "source": [
        "import matplotlib.pyplot as plt\n",
        "month = [\"Jan\", \"Feb\", \"March\", \"April\"]\n",
        "Pay = [30000, 270000, 350000, 40000]\n",
        "plt.bar(month, Pay, color='green')\n",
        "plt.title(\"Pay Graph\")\n",
        "plt.xlabel(\"month\")\n",
        "plt.ylabel(\"Pay\")\n",
        "plt.show()"
      ],
      "metadata": {
        "colab": {
          "base_uri": "https://localhost:8080/",
          "height": 472
        },
        "id": "rki048mI1ucZ",
        "outputId": "f04e26aa-d0dc-4280-9fab-930183aa6751"
      },
      "execution_count": 8,
      "outputs": [
        {
          "output_type": "display_data",
          "data": {
            "text/plain": [
              "<Figure size 640x480 with 1 Axes>"
            ],
            "image/png": "[encoded data removed]"
          },
          "metadata": {}
        }
      ]
    },
    {
      "cell_type": "markdown",
      "source": [
        "##Task-3\n"
      ],
      "metadata": {
        "id": "PzVYlfyt3aT0"
      }
    },
    {
      "cell_type": "code",
      "source": [
        "pip install qrcode"
      ],
      "metadata": {
        "colab": {
          "base_uri": "https://localhost:8080/"
        },
        "id": "BRa55ZAJ3vpH",
        "outputId": "c6e12727-fb34-4e78-c203-9e1eefb48704"
      },
      "execution_count": 9,
      "outputs": [
        {
          "output_type": "stream",
          "name": "stdout",
          "text": [
            "Collecting qrcode\n",
            "  Downloading qrcode-8.2-py3-none-any.whl.metadata (17 kB)\n",
            "Downloading qrcode-8.2-py3-none-any.whl (45 kB)\n",
            "\u001b[?25l   \u001b[90m━━━━━━━━━━━━━━━━━━━━━━━━━━━━━━━━━━━━━━━━\u001b[0m \u001b[32m0.0/46.0 kB\u001b[0m \u001b[31m?\u001b[0m eta \u001b[36m-:--:--\u001b[0m\r\u001b[2K   \u001b[90m━━━━━━━━━━━━━━━━━━━━━━━━━━━━━━━━━━━━━━━━\u001b[0m \u001b[32m46.0/46.0 kB\u001b[0m \u001b[31m3.2 MB/s\u001b[0m eta \u001b[36m0:00:00\u001b[0m\n",
            "\u001b[?25hInstalling collected packages: qrcode\n",
            "Successfully installed qrcode-8.2\n"
          ]
        }
      ]
    },
    {
      "cell_type": "code",
      "source": [
        "import qrcode\n",
        "import numpy as np\n",
        "from PIL import Image\n",
        "\n",
        "data = \"https://www.youtube.com/\"\n",
        "qr = qrcode.make(data)\n",
        "qr_filename = \"linkedin_qr.png\"\n",
        "qr.save(qr_filename)\n",
        "print(\"QR Code Has Been Generated\")\n",
        "img = np.asarray(Image.open(qr_filename))\n",
        "plt.imshow(img)"
      ],
      "metadata": {
        "colab": {
          "base_uri": "https://localhost:8080/",
          "height": 470
        },
        "id": "WP3iO0S53TiS",
        "outputId": "db85ba6b-d7df-4a2f-e020-09c541a7499d"
      },
      "execution_count": 10,
      "outputs": [
        {
          "output_type": "stream",
          "name": "stdout",
          "text": [
            "QR Code Has Been Generated\n"
          ]
        },
        {
          "output_type": "execute_result",
          "data": {
            "text/plain": [
              "<matplotlib.image.AxesImage at 0x7b0417f7ed50>"
            ]
          },
          "metadata": {},
          "execution_count": 10
        },
        {
          "output_type": "display_data",
          "data": {
            "text/plain": [
              "<Figure size 640x480 with 1 Axes>"
            ],
            "image/png": "[encoded data removed]"
          },
          "metadata": {}
        }
      ]
    }
  ]
}